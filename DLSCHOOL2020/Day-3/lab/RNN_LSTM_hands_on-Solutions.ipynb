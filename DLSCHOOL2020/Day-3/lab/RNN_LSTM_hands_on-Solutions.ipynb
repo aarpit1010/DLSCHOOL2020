{
  "nbformat": 4,
  "nbformat_minor": 0,
  "metadata": {
    "accelerator": "GPU",
    "colab": {
      "name": "RNN_LSTM_hands-on.ipynb",
      "provenance": [],
      "collapsed_sections": []
    },
    "kernelspec": {
      "display_name": "Python 3",
      "language": "python",
      "name": "python3"
    },
    "language_info": {
      "codemirror_mode": {
        "name": "ipython",
        "version": 3
      },
      "file_extension": ".py",
      "mimetype": "text/x-python",
      "name": "python",
      "nbconvert_exporter": "python",
      "pygments_lexer": "ipython3",
      "version": "3.7.4"
    }
  },
  "cells": [
    {
      "cell_type": "markdown",
      "metadata": {
        "colab_type": "text",
        "id": "9h-pNS_KaIbZ"
      },
      "source": [
        "# Lab 3: Deep Sequence Modeling"
      ]
    },
    {
      "cell_type": "markdown",
      "metadata": {
        "id": "_qr6VAorz7am",
        "colab_type": "text"
      },
      "source": [
        "The third lab session is about data that have a sequential structure that must be taken into account."
      ]
    },
    {
      "cell_type": "code",
      "metadata": {
        "colab_type": "code",
        "id": "4TNAZGt4aIbe",
        "colab": {}
      },
      "source": [
        "from __future__ import print_function\n",
        "import tensorflow as tf\n",
        "import os, json, re\n",
        "import matplotlib.pyplot as plt\n",
        "import numpy as np\n",
        "from sklearn.model_selection import train_test_split\n",
        "from keras.preprocessing.text import Tokenizer\n",
        "from keras.preprocessing.sequence import pad_sequences\n",
        "from sklearn.metrics import classification_report\n",
        "from sklearn.metrics import confusion_matrix\n",
        "import pandas as pd\n",
        "%matplotlib inline"
      ],
      "execution_count": 14,
      "outputs": []
    },
    {
      "cell_type": "markdown",
      "metadata": {
        "colab_type": "text",
        "id": "KnmA6CbEaIbv"
      },
      "source": [
        "# 3.1 Deal with sequential data\n",
        "<img src=\"https://drive.google.com/uc?id=1k6HwtWlMTkVJFuyBpeBGF2sApqxR-KRc\" width=\"600px\" align=\"right\"><br>\n",
        "In this lab we see Deep Learning models that can process sequential data (text, timeseries,..).<br>\n",
        "These models don’t take as input raw text: they only work with numeric tensors; **vectorizing** text is the process of transforming text into numeric tensors.<br><br><br>\n",
        "The different units into which you can break down text (words, characters) are called tokens; then if you apply a tokenization scheme, you associate numeric vectors with the generated tokens.<br>\n",
        "These vectors, packed into sequence tensors, are fed into Deep Neural Network.<br>\n",
        "There are multiple ways to associate a vector with a token: we will see One-Hot Encoding and Token Embedding.<br>\n",
        "In this section we are going to deal with:\n",
        "* 3.1.1 One-Hot Encoding\n",
        "* 3.1.2 Word embedding"
      ]
    },
    {
      "cell_type": "markdown",
      "metadata": {
        "colab_type": "text",
        "id": "qhRTCGvGaIbz"
      },
      "source": [
        "## 3.1.1 One-Hot Encoding\n",
        "One-Hot Encoding consists of associating a unique integer index with every word and then turning this integer index $i$ into a binary vector of size $N$ (the size of the vocabulary); the vector is all zeros except for the $i$-th entry, which is 1.\n",
        "<img src=\"https://drive.google.com/uc?id=1OzK9t_WXQsaDuZoOTQSksLuNMubXm0gc\" width=\"400px\">"
      ]
    },
    {
      "cell_type": "markdown",
      "metadata": {
        "colab_type": "text",
        "id": "u8hfjPNJaIb1"
      },
      "source": [
        "#### Try to perform One-Hot Encoding using Tokenizer\n",
        "Keras provides the Tokenizer class for preparing text documents for DL.<br>\n",
        "The Tokenizer must be constructed and then fit on either raw text documents or integer encoded text documents"
      ]
    },
    {
      "cell_type": "code",
      "metadata": {
        "colab_type": "code",
        "id": "0EPyke25aIb3",
        "colab": {
          "base_uri": "https://localhost:8080/",
          "height": 104
        },
        "outputId": "76846ce0-412d-4d2e-958a-70014d4d5c3f"
      },
      "source": [
        "# define 4 documents\n",
        "docs = ['Well done!','Good work','Great effort','nice work']\n",
        "\n",
        "# create the tokenizer\n",
        "tokenizer = Tokenizer()\n",
        "\n",
        "# fit the tokenizer on the documents\n",
        "tokenizer.fit_on_texts(docs)\n",
        "\n",
        "\n",
        "encoded_docs = tokenizer.texts_to_matrix(docs, mode='count') \n",
        "print(encoded_docs)"
      ],
      "execution_count": 2,
      "outputs": [
        {
          "output_type": "stream",
          "text": [
            "[[0. 0. 1. 1. 0. 0. 0. 0.]\n",
            " [0. 1. 0. 0. 1. 0. 0. 0.]\n",
            " [0. 0. 0. 0. 0. 1. 1. 0.]\n",
            " [0. 1. 0. 0. 0. 0. 0. 1.]]\n"
          ],
          "name": "stdout"
        }
      ]
    },
    {
      "cell_type": "markdown",
      "metadata": {
        "colab_type": "text",
        "id": "eDycrywyaIb-"
      },
      "source": [
        "Some problems related to this kind of encoding are sparsity of the solution and the high dimensionality of the vector encoding of the tokens."
      ]
    },
    {
      "cell_type": "markdown",
      "metadata": {
        "colab_type": "text",
        "id": "YHeXmpPfaIcB"
      },
      "source": [
        "## 3.1.2 Word embedding\n",
        "<img src=\"https://drive.google.com/uc?id=1YRcQ1_5n8Qay0GFoSLVrNcEKWeik5G3S\" width=\"400px\" align=\"right\"><br>\n",
        "The vector obtained from word embedding is dense and has lower dimensionality w.r.t One-Hot Encoding vector; the dimensionality of embedding space vector is an hyperparameter.<br>\n",
        "There are two ways to obtain word embeddings:<br>\n",
        "* May be learned jointly with the network\n",
        "* May use pre-trained word vectors (Word2Vec, GloVe,..)\n",
        "\n",
        "\n",
        "Word embeddings maps human language into a geometric space; in a reasonable embedding space synonyms are embedded into similar word vectors and the geometric distance between any two word vectors reflects the semantic distance between the associated words (words meaning different things are embedded at points far away from each other, whereas related words are closer).<br>\n",
        "How good is a word-embedding space depends on the specific task.<br>\n",
        "It is reasonable to learn a new embedding space with every new task: with backpropagation and Keras it reduces to learn the weights of the Embedding layer."
      ]
    },
    {
      "cell_type": "markdown",
      "metadata": {
        "colab_type": "text",
        "id": "GFHFL8wSaIcF"
      },
      "source": [
        "### Learning Word Embeddings with the embedding layer\n",
        "#### Load imdb dataset\n",
        "This dataset contains movies reviews from IMDB, labeled by sentiment(positive/negative); reviews have been preprocessed, and each review is encoded as a sequence of word indexes(integers).<br>\n",
        "https://keras.io/datasets/#imdb-movie-reviews-sentiment-classification"
      ]
    },
    {
      "cell_type": "code",
      "metadata": {
        "id": "9KD1r3Dkz7bh",
        "colab_type": "code",
        "colab": {}
      },
      "source": [
        "max_features = 10000\n",
        "\n",
        "imdb = tf.keras.datasets.imdb\n",
        "(x_train, y_train), (x_test, y_test) = imdb.load_data(num_words=max_features)\n"
      ],
      "execution_count": 3,
      "outputs": []
    },
    {
      "cell_type": "markdown",
      "metadata": {
        "colab_type": "text",
        "id": "a5muY3QYaIcK"
      },
      "source": [
        "#### Show the size of vocabulary and the most frequent words"
      ]
    },
    {
      "cell_type": "code",
      "metadata": {
        "colab_type": "code",
        "id": "JXB3wghhaIcL",
        "colab": {
          "base_uri": "https://localhost:8080/",
          "height": 104
        },
        "outputId": "7b9a5687-4edc-4950-8ca5-d7a6b6826aad"
      },
      "source": [
        "word_to_index = imdb.get_word_index()\n",
        "\n",
        "vocab_size = len(word_to_index)\n",
        "print('Vocab size : ', vocab_size)\n",
        "\n",
        "\n",
        "words_freq_list =words_freq_list = []\n",
        "[]\n",
        "for (k,v) in imdb.get_word_index().items():\n",
        "    words_freq_list.append((k,v))\n",
        "\n",
        "sorted_list = sorted(words_freq_list, key=lambda x: x[1])\n",
        "\n",
        "print(\"50 most common words: \\n\")\n",
        "print(sorted_list[0:50])"
      ],
      "execution_count": 4,
      "outputs": [
        {
          "output_type": "stream",
          "text": [
            "Vocab size :  88584\n",
            "50 most common words: \n",
            "\n",
            "[('the', 1), ('and', 2), ('a', 3), ('of', 4), ('to', 5), ('is', 6), ('br', 7), ('in', 8), ('it', 9), ('i', 10), ('this', 11), ('that', 12), ('was', 13), ('as', 14), ('for', 15), ('with', 16), ('movie', 17), ('but', 18), ('film', 19), ('on', 20), ('not', 21), ('you', 22), ('are', 23), ('his', 24), ('have', 25), ('he', 26), ('be', 27), ('one', 28), ('all', 29), ('at', 30), ('by', 31), ('an', 32), ('they', 33), ('who', 34), ('so', 35), ('from', 36), ('like', 37), ('her', 38), ('or', 39), ('just', 40), ('about', 41), (\"it's\", 42), ('out', 43), ('has', 44), ('if', 45), ('some', 46), ('there', 47), ('what', 48), ('good', 49), ('more', 50)]\n"
          ],
          "name": "stdout"
        }
      ]
    },
    {
      "cell_type": "code",
      "metadata": {
        "colab_type": "code",
        "id": "27uI4g4saIcQ",
        "colab": {
          "base_uri": "https://localhost:8080/",
          "height": 54
        },
        "outputId": "5a15509f-9cfc-41ec-aeb8-d24301d786bc"
      },
      "source": [
        "word_to_index['otherwise']"
      ],
      "execution_count": 5,
      "outputs": [
        {
          "output_type": "execute_result",
          "data": {
            "text/plain": [
              "897"
            ]
          },
          "metadata": {
            "tags": []
          },
          "execution_count": 5
        }
      ]
    },
    {
      "cell_type": "markdown",
      "metadata": {
        "id": "FMK_ca3VRFqd",
        "colab_type": "text"
      },
      "source": [
        "#### Converting IMDB dataset to readable reviews\n",
        "\n",
        "Reviews in the IMDB dataset have been encoded as a sequence of integers. The dataset also contains an index for converting the reviews back into human readable form."
      ]
    },
    {
      "cell_type": "code",
      "metadata": {
        "id": "ofnJbmwjRpmy",
        "colab_type": "code",
        "colab": {
          "base_uri": "https://localhost:8080/",
          "height": 71
        },
        "outputId": "b82cce98-fbd9-46ea-fdb4-52945d2936b8"
      },
      "source": [
        "# Get the word index from the dataset\n",
        "word_index = tf.keras.datasets.imdb.get_word_index()\n",
        "\n",
        "word_index = {k:v for k,v in word_index.items()}\n",
        "\n",
        "# Perform reverse word lookup and make it callable\n",
        "reverse_word_index = dict([(value, key) for (key, value) in word_index.items()])\n",
        "def decode_review(text):\n",
        "    return ' '.join([reverse_word_index.get(i, '?') for i in text])"
      ],
      "execution_count": 7,
      "outputs": [
        {
          "output_type": "stream",
          "text": [
            "Downloading data from https://storage.googleapis.com/tensorflow/tf-keras-datasets/imdb_word_index.json\n",
            "1646592/1641221 [==============================] - 0s 0us/step\n"
          ],
          "name": "stdout"
        }
      ]
    },
    {
      "cell_type": "markdown",
      "metadata": {
        "id": "NcSP_mYrSI1D",
        "colab_type": "text"
      },
      "source": [
        "#### Data Insight"
      ]
    },
    {
      "cell_type": "code",
      "metadata": {
        "id": "yBMTw5P4SQwh",
        "colab_type": "code",
        "colab": {
          "base_uri": "https://localhost:8080/",
          "height": 220
        },
        "outputId": "d2096d9e-b99d-48e1-be0c-72d995551785"
      },
      "source": [
        "# Map for readable classnames\n",
        "class_names = [\"Negative\", \"Positive\"]\n",
        "\n",
        "# Concatonate test and training datasets\n",
        "allreviews = np.concatenate((x_train, x_test), axis=0)\n",
        "\n",
        "# Review lengths across test and training whole datasets\n",
        "print(\"Maximum review length: {}\".format(len(max((allreviews), key=len))))\n",
        "print(\"Minimum review length: {}\".format(len(min((allreviews), key=len))))\n",
        "result = [len(x) for x in allreviews]\n",
        "print(\"Mean review length: {}\".format(np.mean(result)))\n",
        "\n",
        "# Print a review and it's class as stored in the dataset. Replace the number\n",
        "# to select a different review.\n",
        "print(\"\")\n",
        "print(\"Machine readable Review\")\n",
        "print(\"  Review Text: \" + str(x_train[3]))\n",
        "print(\"  Review Sentiment: \" + str(y_train[3]))\n",
        "\n",
        "# Print a review and it's class in human readable format. Replace the number\n",
        "# to select a different review.\n",
        "print(\"\")\n",
        "print(\"Human Readable Review\")\n",
        "print(\"  Review Text: \" + decode_review(x_train[3]))\n",
        "print(\"  Review Sentiment: \" + class_names[y_train[3]])"
      ],
      "execution_count": 7,
      "outputs": [
        {
          "output_type": "stream",
          "text": [
            "Maximum review length: 2494\n",
            "Minimum review length: 7\n",
            "Mean review length: 234.75892\n",
            "\n",
            "Machine readable Review\n",
            "  Review Text: [1, 4, 2, 2, 33, 2804, 4, 2040, 432, 111, 153, 103, 4, 1494, 13, 70, 131, 67, 11, 61, 2, 744, 35, 3715, 761, 61, 5766, 452, 9214, 4, 985, 7, 2, 59, 166, 4, 105, 216, 1239, 41, 1797, 9, 15, 7, 35, 744, 2413, 31, 8, 4, 687, 23, 4, 2, 7339, 6, 3693, 42, 38, 39, 121, 59, 456, 10, 10, 7, 265, 12, 575, 111, 153, 159, 59, 16, 1447, 21, 25, 586, 482, 39, 4, 96, 59, 716, 12, 4, 172, 65, 9, 579, 11, 6004, 4, 1615, 5, 2, 7, 5168, 17, 13, 7064, 12, 19, 6, 464, 31, 314, 11, 2, 6, 719, 605, 11, 8, 202, 27, 310, 4, 3772, 3501, 8, 2722, 58, 10, 10, 537, 2116, 180, 40, 14, 413, 173, 7, 263, 112, 37, 152, 377, 4, 537, 263, 846, 579, 178, 54, 75, 71, 476, 36, 413, 263, 2504, 182, 5, 17, 75, 2306, 922, 36, 279, 131, 2895, 17, 2867, 42, 17, 35, 921, 2, 192, 5, 1219, 3890, 19, 2, 217, 4122, 1710, 537, 2, 1236, 5, 736, 10, 10, 61, 403, 9, 2, 40, 61, 4494, 5, 27, 4494, 159, 90, 263, 2311, 4319, 309, 8, 178, 5, 82, 4319, 4, 65, 15, 9225, 145, 143, 5122, 12, 7039, 537, 746, 537, 537, 15, 7979, 4, 2, 594, 7, 5168, 94, 9096, 3987, 2, 11, 2, 4, 538, 7, 1795, 246, 2, 9, 2, 11, 635, 14, 9, 51, 408, 12, 94, 318, 1382, 12, 47, 6, 2683, 936, 5, 6307, 2, 19, 49, 7, 4, 1885, 2, 1118, 25, 80, 126, 842, 10, 10, 2, 2, 4726, 27, 4494, 11, 1550, 3633, 159, 27, 341, 29, 2733, 19, 4185, 173, 7, 90, 2, 8, 30, 11, 4, 1784, 86, 1117, 8, 3261, 46, 11, 2, 21, 29, 9, 2841, 23, 4, 1010, 2, 793, 6, 2, 1386, 1830, 10, 10, 246, 50, 9, 6, 2750, 1944, 746, 90, 29, 2, 8, 124, 4, 882, 4, 882, 496, 27, 2, 2213, 537, 121, 127, 1219, 130, 5, 29, 494, 8, 124, 4, 882, 496, 4, 341, 7, 27, 846, 10, 10, 29, 9, 1906, 8, 97, 6, 236, 2, 1311, 8, 4, 2, 7, 31, 7, 2, 91, 2, 3987, 70, 4, 882, 30, 579, 42, 9, 12, 32, 11, 537, 10, 10, 11, 14, 65, 44, 537, 75, 2, 1775, 3353, 2, 1846, 4, 2, 7, 154, 5, 4, 518, 53, 2, 2, 7, 3211, 882, 11, 399, 38, 75, 257, 3807, 19, 2, 17, 29, 456, 4, 65, 7, 27, 205, 113, 10, 10, 2, 4, 2, 2, 9, 242, 4, 91, 1202, 2, 5, 2070, 307, 22, 7, 5168, 126, 93, 40, 2, 13, 188, 1076, 3222, 19, 4, 2, 7, 2348, 537, 23, 53, 537, 21, 82, 40, 2, 13, 2, 14, 280, 13, 219, 4, 2, 431, 758, 859, 4, 953, 1052, 2, 7, 5991, 5, 94, 40, 25, 238, 60, 2, 4, 2, 804, 2, 7, 4, 9941, 132, 8, 67, 6, 22, 15, 9, 283, 8, 5168, 14, 31, 9, 242, 955, 48, 25, 279, 2, 23, 12, 1685, 195, 25, 238, 60, 796, 2, 4, 671, 7, 2804, 5, 4, 559, 154, 888, 7, 726, 50, 26, 49, 7008, 15, 566, 30, 579, 21, 64, 2574]\n",
            "  Review Sentiment: 1\n",
            "\n",
            "Human Readable Review\n",
            "  Review Text: the of and and they halfway of identity went plot actors watch of share was well these can this only and ten so failing feels only novak killer theo of bill br and would find of films saw grade about hated it for br so ten remain by in of songs are of and gigantic is morality it's her or know would care i i br screen that obvious plot actors new would with paris not have attempt lead or of too would local that of every their it coming this eleven of information to and br singers movie was anxious that film is under by left this and is entertainment ok this in own be house of sticks worker in bound my i i obviously sake things just as lost lot br comes never like thing start of obviously comes indeed coming want no bad than history from lost comes accidentally young to movie bad facts dream from reason these honor movie elizabeth it's movie so fi and enough to computer duo film and almost jeffrey rarely obviously and alive to appears i i only human it and just only hop to be hop new made comes evidence blues high in want to other blues of their for concludes those i'm 1995 that wider obviously message obviously obviously for submarine of and brother br singers make climbs lit and this and of blood br andy worst and it and this across as it when lines that make excellent scenery that there is julia fantasy to repressed and film good br of loose and basic have into your whatever i i and and demented be hop this standards cole new be home all seek film wives lot br made and in at this of search how concept in thirty some this and not all it rachel are of boys and re is and animals deserve i i worst more it is renting concerned message made all and in does of nor of nor side be and center obviously know end computer here to all tries in does of nor side of home br be indeed i i all it officer in could is performance and fully in of and br by br and its and lit well of nor at coming it's it that an this obviously i i this as their has obviously bad and exist countless and mixed of and br work to of run up and and br dear nor this early her bad having tortured film and movie all care of their br be right acting i i and of and and it away of its shooting and to suffering version you br singers your way just and was can't compared condition film of and br united obviously are up obviously not other just and was and as true was least of and certainly lady poorly of setting produced and br refuse to make just have 2 which and of and dialog and br of frye say in can is you for it wasn't in singers as by it away plenty what have reason and are that willing that's have 2 which sister and of important br halfway to of took work 20 br similar more he good flower for hit at coming not see reputation\n",
            "  Review Sentiment: Positive\n"
          ],
          "name": "stdout"
        }
      ]
    },
    {
      "cell_type": "markdown",
      "metadata": {
        "id": "7Sqt7-5bSjOO",
        "colab_type": "text"
      },
      "source": [
        "#### Pre-processing Data\n",
        "We need to make sure that our reviews are of a uniform length.\n",
        "Some reviews will need to be truncated, while others need to be padded."
      ]
    },
    {
      "cell_type": "code",
      "metadata": {
        "id": "bv549BvISpK0",
        "colab_type": "code",
        "colab": {
          "base_uri": "https://localhost:8080/",
          "height": 104
        },
        "outputId": "fd9b342d-fedb-4eb7-d62a-c0f6557a769b"
      },
      "source": [
        "maxlen = 50\n",
        "x_train = tf.keras.preprocessing.sequence.pad_sequences(x_train, maxlen=maxlen)\n",
        "x_test = tf.keras.preprocessing.sequence.pad_sequences(x_test, maxlen=maxlen)\n",
        "print(\"Shape Training  Data: \" + str(x_train.shape))\n",
        "print(\"Shape Training Output Data: \" + str(y_train.shape))\n",
        "print(\"Shape Test Data: \" + str(x_test.shape))\n",
        "print(\"Shape Test Output Data: \" + str(y_test.shape))"
      ],
      "execution_count": 8,
      "outputs": [
        {
          "output_type": "stream",
          "text": [
            "Shape Training  Data: (25000, 50)\n",
            "Shape Training Output Data: (25000,)\n",
            "Shape Test Data: (25000, 50)\n",
            "Shape Test Output Data: (25000,)\n"
          ],
          "name": "stdout"
        }
      ]
    },
    {
      "cell_type": "markdown",
      "metadata": {
        "colab_type": "text",
        "id": "jXjwll2WaIda"
      },
      "source": [
        "# 3.2 Recurrent Neural Network\n",
        "Here https://colah.github.io/posts/2015-08-Understanding-LSTMs/ you can find a clear explanation about RNNs and LSTMs; the following is a summary of the main concepts.\n",
        "\n",
        "\n",
        "A major characteristic of some neural networks, as ConvNet, is that they have no memory: each input is processed independently, with no state kept in between inputs. Biological intelligence processes information incrementally while maintaining an internal model of what it’s processing, built from past information and constantly updated as new information comes in.<br>\n",
        "A recurrent neural network (RNN) adopts the same principle but in an extremely simplified version: it processes sequences by iterating through the sequence elements and maintaining a state containing information relative to what it has seen so far.\n",
        "\n",
        "<img src=\"https://drive.google.com/uc?id=1RaDXXygc0HJv6YyIAjU4_Nbw1bXzAhAJ\" width=\"650px\"><br>\n",
        "\n",
        "\n",
        "\n",
        "\n",
        "Each input $x_{i=t-1, t, t+1, ..}$ is combined with the internal state and then is applied an activation function (e.g. $tanh$); then the output is computed $h_{i=t-1, t, t+1, ..}$ and the internal state is updated.<br>\n",
        "In many cases, you just need the last output ($h_{i=last t}$ at the end of the loop), because it already contains information\n",
        "about the entire sequence.\n",
        "<img src=\"https://drive.google.com/uc?id=1RtulDLKQnzZTSbBsD2n7TIlRVEaESB8o\" width=\"550px\">\n"
      ]
    },
    {
      "cell_type": "markdown",
      "metadata": {
        "colab_type": "text",
        "id": "vL10YVWTaIdi"
      },
      "source": [
        "#### Create the model\n",
        "In the following sections we will develop different models. Be careful to the fact that we are dealing with a binary classification problem!"
      ]
    },
    {
      "cell_type": "code",
      "metadata": {
        "colab_type": "code",
        "id": "3PCby93EaIdi",
        "colab": {}
      },
      "source": [
        "model = tf.keras.Sequential()\n",
        "model.add(tf.keras.layers.Embedding(max_features, 16))\n",
        "model.add(tf.keras.layers.Dropout(rate=0.2 )) # Randomly disable 20% of neurons\n",
        "# Complete the model, it should be made by at least:\n",
        "# 1 SimpleRNN layer\n",
        "# 1 Dense layer\n",
        "# model.add(tf.keras.layers.SimpleRNN(32,dropout=0.2,recurrent_dropout=0.2))#20% dropout for input units and 20% dropout for recurrent connections.\n",
        "model.add(tf.keras.layers.SimpleRNN(32,dropout=0.2))\n",
        "model.add(tf.keras.layers.Dense(1, activation='sigmoid')) \n",
        "\n",
        "model.compile(optimizer='rmsprop', loss='binary_crossentropy', metrics=['acc'])"
      ],
      "execution_count": 13,
      "outputs": []
    },
    {
      "cell_type": "markdown",
      "metadata": {
        "colab_type": "text",
        "id": "4JTBSi5TaIdp"
      },
      "source": [
        "#### Train the model"
      ]
    },
    {
      "cell_type": "markdown",
      "metadata": {
        "id": "GB9GYIosXAhh",
        "colab_type": "text"
      },
      "source": [
        ""
      ]
    },
    {
      "cell_type": "code",
      "metadata": {
        "colab_type": "code",
        "id": "DamvGVOpaIdq",
        "colab": {
          "base_uri": "https://localhost:8080/",
          "height": 368
        },
        "outputId": "6fe9d9da-341d-4a57-9ae3-7d615bcd54b7"
      },
      "source": [
        "# Train your model here\n",
        "history = model.fit(x_train, y_train,\n",
        "    epochs=10,\n",
        "    batch_size=128,\n",
        "    validation_split=0.2)"
      ],
      "execution_count": 14,
      "outputs": [
        {
          "output_type": "stream",
          "text": [
            "Epoch 1/10\n",
            "157/157 [==============================] - 8s 51ms/step - loss: 0.6357 - acc: 0.6240 - val_loss: 0.5254 - val_acc: 0.7582\n",
            "Epoch 2/10\n",
            "157/157 [==============================] - 8s 49ms/step - loss: 0.4560 - acc: 0.7934 - val_loss: 0.9515 - val_acc: 0.6598\n",
            "Epoch 3/10\n",
            "157/157 [==============================] - 8s 49ms/step - loss: 0.3831 - acc: 0.8339 - val_loss: 0.4237 - val_acc: 0.8060\n",
            "Epoch 4/10\n",
            "157/157 [==============================] - 8s 53ms/step - loss: 0.3394 - acc: 0.8586 - val_loss: 0.4489 - val_acc: 0.7808\n",
            "Epoch 5/10\n",
            "157/157 [==============================] - 8s 50ms/step - loss: 0.3095 - acc: 0.8720 - val_loss: 0.4260 - val_acc: 0.8116\n",
            "Epoch 6/10\n",
            "157/157 [==============================] - 8s 49ms/step - loss: 0.2858 - acc: 0.8827 - val_loss: 0.4551 - val_acc: 0.7974\n",
            "Epoch 7/10\n",
            "157/157 [==============================] - 8s 51ms/step - loss: 0.2669 - acc: 0.8936 - val_loss: 0.4559 - val_acc: 0.8098\n",
            "Epoch 8/10\n",
            "157/157 [==============================] - 8s 51ms/step - loss: 0.2420 - acc: 0.9053 - val_loss: 0.4860 - val_acc: 0.7784\n",
            "Epoch 9/10\n",
            "157/157 [==============================] - 8s 50ms/step - loss: 0.2269 - acc: 0.9114 - val_loss: 0.5196 - val_acc: 0.8036\n",
            "Epoch 10/10\n",
            "157/157 [==============================] - 8s 51ms/step - loss: 0.2018 - acc: 0.9230 - val_loss: 0.4809 - val_acc: 0.7948\n"
          ],
          "name": "stdout"
        }
      ]
    },
    {
      "cell_type": "code",
      "metadata": {
        "colab_type": "code",
        "id": "H5vtqdoL8gQl",
        "colab": {}
      },
      "source": [
        "def plot_history(history):\n",
        "    # Plot training & validation accuracy values\n",
        "    plt.plot(history.history['acc'])\n",
        "    plt.plot(history.history['val_acc'])\n",
        "    plt.title('Model accuracy')\n",
        "    plt.ylabel('Accuracy')\n",
        "    plt.xlabel('Epoch')\n",
        "    plt.legend(['Train', 'Val'], loc='upper left')\n",
        "    plt.show()\n",
        "\n",
        "    # Plot training & validation loss values\n",
        "    plt.plot(history.history['loss'])\n",
        "    plt.plot(history.history['val_loss'])\n",
        "    plt.title('Model loss')\n",
        "    plt.ylabel('Loss')\n",
        "    plt.xlabel('Epoch')\n",
        "    plt.legend(['Train', 'Val'], loc='upper left')\n",
        "    plt.show()"
      ],
      "execution_count": 18,
      "outputs": []
    },
    {
      "cell_type": "code",
      "metadata": {
        "colab_type": "code",
        "id": "pt-M_A7OaIds",
        "colab": {
          "base_uri": "https://localhost:8080/",
          "height": 593
        },
        "outputId": "a483aec5-4f79-4fa0-c966-1bd094f065c0"
      },
      "source": [
        "plot_history(history)"
      ],
      "execution_count": 16,
      "outputs": [
        {
          "output_type": "display_data",
          "data": {
            "image/png": "[encoded data removed]",
            "text/plain": [
              "<Figure size 432x288 with 1 Axes>"
            ]
          },
          "metadata": {
            "tags": [],
            "needs_background": "light"
          }
        },
        {
          "output_type": "display_data",
          "data": {
            "image/png": "[encoded data removed]",
            "text/plain": [
              "<Figure size 432x288 with 1 Axes>"
            ]
          },
          "metadata": {
            "tags": [],
            "needs_background": "light"
          }
        }
      ]
    },
    {
      "cell_type": "markdown",
      "metadata": {
        "colab_type": "text",
        "id": "7pZ5tcAjaIdx"
      },
      "source": [
        "#### Evaluate the model"
      ]
    },
    {
      "cell_type": "code",
      "metadata": {
        "colab_type": "code",
        "id": "aDbsgw_5aIdy",
        "colab": {
          "base_uri": "https://localhost:8080/",
          "height": 220
        },
        "outputId": "9e072832-e173-43bd-bcb3-d699039bfb02"
      },
      "source": [
        "test_loss, test_acc = model.evaluate(x_test, y_test, verbose=1)\n",
        "print('Test accuracy: %.3f, Test loss: %.3f' % (test_acc,test_loss))\n",
        "\n",
        "# Classification Report\n",
        "predicted_classes = model.predict_classes(x_test)\n",
        "print(classification_report(y_test, predicted_classes, target_names=class_names))"
      ],
      "execution_count": 18,
      "outputs": [
        {
          "output_type": "stream",
          "text": [
            "782/782 [==============================] - 4s 5ms/step - loss: 0.4842 - acc: 0.7948\n",
            "Test accuracy: 0.795, Test loss: 0.484\n",
            "              precision    recall  f1-score   support\n",
            "\n",
            "    Negative       0.79      0.80      0.80     12500\n",
            "    Positive       0.80      0.79      0.79     12500\n",
            "\n",
            "    accuracy                           0.79     25000\n",
            "   macro avg       0.79      0.79      0.79     25000\n",
            "weighted avg       0.79      0.79      0.79     25000\n",
            "\n"
          ],
          "name": "stdout"
        }
      ]
    },
    {
      "cell_type": "markdown",
      "metadata": {
        "colab_type": "text",
        "id": "is6FCRVRaId0"
      },
      "source": [
        "#### Try to build a new model where you stack several recurrent layers.\n",
        "In such a setup, you have to get all of the intermediate layers to return full sequence of outputs. This is needed to return batch size, timesteps, hidden state. By doing this the output should contain all historical generated outputs along with time stamps (3D). This way the next layer can work further on the data."
      ]
    },
    {
      "cell_type": "code",
      "metadata": {
        "colab_type": "code",
        "id": "eExHNhMraId1",
        "colab": {}
      },
      "source": [
        "# Build the model. It should be made by at least:\n",
        "# 1 Embedding layer\n",
        "# More than 1 SimpleRNN layer, do not forget to put the return_sequences parameter to True \n",
        "# 1 Dense layer\n",
        "model = tf.keras.Sequential()\n",
        "model.add(tf.keras.layers.Embedding(max_features, 16))\n",
        "model.add(tf.keras.layers.Dropout(rate=0.2 )) # Randomly disable 20% of neurons\n",
        "model.add(tf.keras.layers.SimpleRNN(32, return_sequences=True,dropout=0.2))\n",
        "model.add(tf.keras.layers.SimpleRNN(32, return_sequences=True,dropout=0.2))\n",
        "model.add(tf.keras.layers.SimpleRNN(32, return_sequences=True,dropout=0.2))\n",
        "model.add(tf.keras.layers.SimpleRNN(32,recurrent_dropout=0.2))\n",
        "model.add(tf.keras.layers.Dense(1, activation='sigmoid'))\n",
        "\n",
        "model.compile(optimizer='rmsprop', loss='binary_crossentropy', metrics=['acc'])"
      ],
      "execution_count": 19,
      "outputs": []
    },
    {
      "cell_type": "markdown",
      "metadata": {
        "colab_type": "text",
        "id": "xJlV5HynaId_"
      },
      "source": [
        "#### Train the model"
      ]
    },
    {
      "cell_type": "code",
      "metadata": {
        "colab_type": "code",
        "id": "rWm__m8RaIeC",
        "colab": {
          "base_uri": "https://localhost:8080/",
          "height": 368
        },
        "outputId": "9fa04142-bc4c-4700-dce4-6ff3f40067f1"
      },
      "source": [
        "# Train your model here\n",
        "history = model.fit(x_train, y_train,\n",
        "    epochs=10,\n",
        "    batch_size=128,\n",
        "    validation_split=0.2)"
      ],
      "execution_count": 20,
      "outputs": [
        {
          "output_type": "stream",
          "text": [
            "Epoch 1/10\n",
            "157/157 [==============================] - 28s 181ms/step - loss: 0.7035 - acc: 0.5038 - val_loss: 0.6936 - val_acc: 0.5042\n",
            "Epoch 2/10\n",
            "157/157 [==============================] - 28s 175ms/step - loss: 0.6956 - acc: 0.5067 - val_loss: 0.6934 - val_acc: 0.4970\n",
            "Epoch 3/10\n",
            "157/157 [==============================] - 28s 179ms/step - loss: 0.6536 - acc: 0.5857 - val_loss: 0.5689 - val_acc: 0.7062\n",
            "Epoch 4/10\n",
            "157/157 [==============================] - 28s 178ms/step - loss: 0.4869 - acc: 0.7674 - val_loss: 0.4355 - val_acc: 0.7956\n",
            "Epoch 5/10\n",
            "157/157 [==============================] - 27s 169ms/step - loss: 0.4114 - acc: 0.8184 - val_loss: 0.5069 - val_acc: 0.7230\n",
            "Epoch 6/10\n",
            "157/157 [==============================] - 27s 172ms/step - loss: 0.3660 - acc: 0.8453 - val_loss: 0.4242 - val_acc: 0.8040\n",
            "Epoch 7/10\n",
            "157/157 [==============================] - 27s 170ms/step - loss: 0.3284 - acc: 0.8634 - val_loss: 0.4126 - val_acc: 0.8106\n",
            "Epoch 8/10\n",
            "157/157 [==============================] - 27s 170ms/step - loss: 0.3187 - acc: 0.8699 - val_loss: 0.4725 - val_acc: 0.7790\n",
            "Epoch 9/10\n",
            "157/157 [==============================] - 27s 173ms/step - loss: 0.3040 - acc: 0.8767 - val_loss: 0.4266 - val_acc: 0.7974\n",
            "Epoch 10/10\n",
            "157/157 [==============================] - 27s 173ms/step - loss: 0.2843 - acc: 0.8868 - val_loss: 0.4439 - val_acc: 0.8046\n"
          ],
          "name": "stdout"
        }
      ]
    },
    {
      "cell_type": "code",
      "metadata": {
        "colab_type": "code",
        "id": "SNdh2-0haIeI",
        "colab": {
          "base_uri": "https://localhost:8080/",
          "height": 593
        },
        "outputId": "f1fd1e1a-f135-4c64-aa45-7ec89510dd58"
      },
      "source": [
        "plot_history(history)"
      ],
      "execution_count": 21,
      "outputs": [
        {
          "output_type": "display_data",
          "data": {
            "image/png": "[encoded data removed]",
            "text/plain": [
              "<Figure size 432x288 with 1 Axes>"
            ]
          },
          "metadata": {
            "tags": [],
            "needs_background": "light"
          }
        },
        {
          "output_type": "display_data",
          "data": {
            "image/png": "[encoded data removed]",
            "text/plain": [
              "<Figure size 432x288 with 1 Axes>"
            ]
          },
          "metadata": {
            "tags": [],
            "needs_background": "light"
          }
        }
      ]
    },
    {
      "cell_type": "markdown",
      "metadata": {
        "colab_type": "text",
        "id": "AEdVU-XYaIeL"
      },
      "source": [
        "#### Evaluate the model"
      ]
    },
    {
      "cell_type": "code",
      "metadata": {
        "colab_type": "code",
        "id": "RNerI-XraIeM",
        "colab": {
          "base_uri": "https://localhost:8080/",
          "height": 220
        },
        "outputId": "7b594ef3-5094-41d2-dd19-f94e54b6d795"
      },
      "source": [
        "test_loss, test_acc = model.evaluate(x_test, y_test, verbose=1)\n",
        "print('Test accuracy: %.3f, Test loss: %.3f' % (test_acc,test_loss))\n",
        "\n",
        "predicted_classes = model.predict_classes(x_test)\n",
        "print(classification_report(y_test, predicted_classes, target_names=class_names))"
      ],
      "execution_count": 22,
      "outputs": [
        {
          "output_type": "stream",
          "text": [
            "782/782 [==============================] - 12s 15ms/step - loss: 0.4384 - acc: 0.8110\n",
            "Test accuracy: 0.811, Test loss: 0.438\n",
            "              precision    recall  f1-score   support\n",
            "\n",
            "    Negative       0.83      0.78      0.80     12500\n",
            "    Positive       0.79      0.84      0.82     12500\n",
            "\n",
            "    accuracy                           0.81     25000\n",
            "   macro avg       0.81      0.81      0.81     25000\n",
            "weighted avg       0.81      0.81      0.81     25000\n",
            "\n"
          ],
          "name": "stdout"
        }
      ]
    },
    {
      "cell_type": "markdown",
      "metadata": {
        "id": "qjiFd_M7z7cW",
        "colab_type": "text"
      },
      "source": [
        "**What can you say about the obtained results? What about the comparison between these results and the ones obtained in the single layer RNN?**"
      ]
    },
    {
      "cell_type": "markdown",
      "metadata": {
        "colab_type": "text",
        "id": "XdJA3ttvaIeP"
      },
      "source": [
        "# 3.3 LSTM Network\n",
        "LSTMs are a special kind of recurrent neural network which works, for many tasks, much better than the standard RNNs.<br>\n",
        "These nets are capable of learning long-term dependencies (they are explicitly designed to avoid the long-term dependency problem); remembering information for long periods of time is practically their default behavior.<br><br>\n",
        "\n",
        "<img src=\"https://drive.google.com/uc?id=1CQ0RkQrnIkr1dFqSU1qHfPh5sJe_A6pQ\" width=\"650px\"><br>\n",
        "\n",
        "RNNs have a very simple structure, such as a single $tanh$ layer.<br>\n",
        "LSTMs also have a chain like structure, but the repeating module has a different structure: instead of having a single neural network layer, there are four, interacting in a very special way"
      ]
    },
    {
      "cell_type": "markdown",
      "metadata": {
        "colab_type": "text",
        "id": "x0KJgSymaIeR"
      },
      "source": [
        "#### Create LSTM model in TensorFlow"
      ]
    },
    {
      "cell_type": "code",
      "metadata": {
        "colab_type": "code",
        "id": "d15KAMKpaIeR",
        "colab": {}
      },
      "source": [
        "# Build the model. It should be made by at least:\n",
        "# 1 Embedding layer\n",
        "# 1 LSTM layer\n",
        "# 1 Dense layer\n",
        "model = tf.keras.Sequential()\n",
        "model.add(tf.keras.layers.Embedding(input_dim=max_features, output_dim=32))\n",
        "model.add(tf.keras.layers.Dropout(rate=0.2 ))\n",
        "model.add(tf.keras.layers.LSTM(32,dropout=0.2))\n",
        "model.add(tf.keras.layers.Dense(1, activation='sigmoid'))\n",
        "\n",
        "model.compile(optimizer='rmsprop',loss='binary_crossentropy',metrics=['acc'])"
      ],
      "execution_count": 23,
      "outputs": []
    },
    {
      "cell_type": "markdown",
      "metadata": {
        "colab_type": "text",
        "id": "JPz5KvjAaIeV"
      },
      "source": [
        "#### Train the model"
      ]
    },
    {
      "cell_type": "code",
      "metadata": {
        "colab_type": "code",
        "id": "u6QTdfzZaIeW",
        "colab": {
          "base_uri": "https://localhost:8080/",
          "height": 368
        },
        "outputId": "d6405008-7e17-493a-b6b2-da36bacc035f"
      },
      "source": [
        "# Train your model here\n",
        "history = model.fit(x_train, y_train,\n",
        "    epochs=10,\n",
        "    batch_size=128,\n",
        "    validation_split=0.2)"
      ],
      "execution_count": 24,
      "outputs": [
        {
          "output_type": "stream",
          "text": [
            "Epoch 1/10\n",
            "157/157 [==============================] - 2s 12ms/step - loss: 0.5529 - acc: 0.7096 - val_loss: 0.4400 - val_acc: 0.7924\n",
            "Epoch 2/10\n",
            "157/157 [==============================] - 1s 8ms/step - loss: 0.3879 - acc: 0.8255 - val_loss: 0.4502 - val_acc: 0.7864\n",
            "Epoch 3/10\n",
            "157/157 [==============================] - 1s 9ms/step - loss: 0.3335 - acc: 0.8609 - val_loss: 0.4007 - val_acc: 0.8166\n",
            "Epoch 4/10\n",
            "157/157 [==============================] - 1s 8ms/step - loss: 0.3061 - acc: 0.8715 - val_loss: 0.4200 - val_acc: 0.8122\n",
            "Epoch 5/10\n",
            "157/157 [==============================] - 1s 8ms/step - loss: 0.2835 - acc: 0.8828 - val_loss: 0.4083 - val_acc: 0.8140\n",
            "Epoch 6/10\n",
            "157/157 [==============================] - 1s 8ms/step - loss: 0.2671 - acc: 0.8887 - val_loss: 0.4097 - val_acc: 0.8094\n",
            "Epoch 7/10\n",
            "157/157 [==============================] - 1s 8ms/step - loss: 0.2549 - acc: 0.8943 - val_loss: 0.5158 - val_acc: 0.8006\n",
            "Epoch 8/10\n",
            "157/157 [==============================] - 1s 8ms/step - loss: 0.2408 - acc: 0.9033 - val_loss: 0.4727 - val_acc: 0.8054\n",
            "Epoch 9/10\n",
            "157/157 [==============================] - 1s 8ms/step - loss: 0.2344 - acc: 0.9062 - val_loss: 0.4418 - val_acc: 0.8086\n",
            "Epoch 10/10\n",
            "157/157 [==============================] - 1s 8ms/step - loss: 0.2224 - acc: 0.9132 - val_loss: 0.4512 - val_acc: 0.8022\n"
          ],
          "name": "stdout"
        }
      ]
    },
    {
      "cell_type": "code",
      "metadata": {
        "colab_type": "code",
        "id": "XELeM5_KaIef",
        "colab": {
          "base_uri": "https://localhost:8080/",
          "height": 593
        },
        "outputId": "50f907c2-e4f6-4b39-eaa9-37c251e894cd"
      },
      "source": [
        "plot_history(history)"
      ],
      "execution_count": 25,
      "outputs": [
        {
          "output_type": "display_data",
          "data": {
            "image/png": "[encoded data removed]",
            "text/plain": [
              "<Figure size 432x288 with 1 Axes>"
            ]
          },
          "metadata": {
            "tags": [],
            "needs_background": "light"
          }
        },
        {
          "output_type": "display_data",
          "data": {
            "image/png": "[encoded data removed]",
            "text/plain": [
              "<Figure size 432x288 with 1 Axes>"
            ]
          },
          "metadata": {
            "tags": [],
            "needs_background": "light"
          }
        }
      ]
    },
    {
      "cell_type": "markdown",
      "metadata": {
        "colab_type": "text",
        "id": "WPSLRTciaIei"
      },
      "source": [
        "#### Evaluate the model"
      ]
    },
    {
      "cell_type": "code",
      "metadata": {
        "colab_type": "code",
        "id": "ovW6sEhNaIej",
        "colab": {
          "base_uri": "https://localhost:8080/",
          "height": 220
        },
        "outputId": "291e4f82-7cf8-4371-f83b-1c6cb7eb0f27"
      },
      "source": [
        "test_loss, test_acc = model.evaluate(x_test, y_test, verbose=1)\n",
        "print('Test accuracy: %.3f, Test loss: %.3f' % (test_acc,test_loss))\n",
        "\n",
        "predicted_classes = model.predict_classes(x_test)\n",
        "print(classification_report(y_test, predicted_classes, target_names=class_names))"
      ],
      "execution_count": 26,
      "outputs": [
        {
          "output_type": "stream",
          "text": [
            "782/782 [==============================] - 2s 3ms/step - loss: 0.4563 - acc: 0.8007\n",
            "Test accuracy: 0.801, Test loss: 0.456\n",
            "              precision    recall  f1-score   support\n",
            "\n",
            "    Negative       0.76      0.87      0.81     12500\n",
            "    Positive       0.85      0.73      0.79     12500\n",
            "\n",
            "    accuracy                           0.80     25000\n",
            "   macro avg       0.81      0.80      0.80     25000\n",
            "weighted avg       0.81      0.80      0.80     25000\n",
            "\n"
          ],
          "name": "stdout"
        }
      ]
    },
    {
      "cell_type": "markdown",
      "metadata": {
        "id": "H4le2v4oBW2H",
        "colab_type": "text"
      },
      "source": [
        ""
      ]
    },
    {
      "cell_type": "markdown",
      "metadata": {
        "id": "JwdcHJE-z7ct",
        "colab_type": "text"
      },
      "source": [
        "# 3.4 Reuters newswire classification dataset"
      ]
    },
    {
      "cell_type": "markdown",
      "metadata": {
        "id": "mXflNcTaz7cu",
        "colab_type": "text"
      },
      "source": [
        "The reuters newswire classification dataset is a dataset of 11,228 newswires from Reuters, labeled over 46 topics. More information about the dataset and how to use it can be found here:\n",
        "https://keras.io/api/datasets/reuters/\n",
        "\n",
        "Try to build a new model dealing with this new dataset.\n",
        "Try to use both the RNN and the LSTM approach, and select the best of them. What do you expect will be the best? Be carefull that this domain shift will imply some changes in your code as it is not a binary classification problem anymore!"
      ]
    },
    {
      "cell_type": "markdown",
      "metadata": {
        "id": "SH5MC6vuAWhG",
        "colab_type": "text"
      },
      "source": [
        "#### Load Reuters dataset"
      ]
    },
    {
      "cell_type": "code",
      "metadata": {
        "id": "mXno6la1Aa52",
        "colab_type": "code",
        "colab": {
          "base_uri": "https://localhost:8080/",
          "height": 71
        },
        "outputId": "c2f18366-30c1-4671-d46e-72be6d433f39"
      },
      "source": [
        "max_features = 10000\n",
        "(x_train, y_train), (x_test, y_test) = tf.keras.datasets.reuters.load_data(num_words=max_features)"
      ],
      "execution_count": 5,
      "outputs": [
        {
          "output_type": "stream",
          "text": [
            "Downloading data from https://storage.googleapis.com/tensorflow/tf-keras-datasets/reuters.npz\n",
            "2113536/2110848 [==============================] - 0s 0us/step\n"
          ],
          "name": "stdout"
        }
      ]
    },
    {
      "cell_type": "markdown",
      "metadata": {
        "id": "_JT1JoqAAe3u",
        "colab_type": "text"
      },
      "source": [
        "#### Data Insight"
      ]
    },
    {
      "cell_type": "code",
      "metadata": {
        "id": "VkrHp63Cz7cx",
        "colab_type": "code",
        "colab": {
          "base_uri": "https://localhost:8080/",
          "height": 269
        },
        "outputId": "0fa638ab-4e3d-4cee-ded4-99a3b6549fbe"
      },
      "source": [
        "class_names=['cocoa','grain','veg-oil','earn','acq','wheat','copper','housing','money-supply',\n",
        "'coffee','sugar','trade','reserves','ship','cotton','carcass','crude','nat-gas',\n",
        "'cpi','money-fx','interest','gnp','meal-feed','alum','oilseed','gold','tin',\n",
        "'strategic-metal','livestock','retail','ipi','iron-steel','rubber','heat','jobs',\n",
        "'lei','bop','zinc','orange','pet-chem','dlr','gas','silver','wpi','hog','lead']\n",
        "\n",
        "num_classes = np.max(y_train) + 1\n",
        "print('Number of Training Samples: {}'.format(len(x_train)))\n",
        "print('Number of Test Samples: {}'.format(len(x_test)))\n",
        "print('Number of classes: ', np.max(y_train)+1)        # plus one because indexing of categories starts at 0\n",
        "\n",
        "\n",
        "# Concatonate test and training datasets\n",
        "allreviews = np.concatenate((x_train, x_test), axis=0)\n",
        "\n",
        "# Review lengths across test and training whole datasets\n",
        "print(\"Maximum review length: {}\".format(len(max((allreviews), key=len))))\n",
        "print(\"Minimum review length: {}\".format(len(min((allreviews), key=len))))\n",
        "result = [len(x) for x in allreviews]\n",
        "print(\"Mean review length: {}\".format(np.mean(result)))\n",
        "\n",
        "# Print a review and it's class as stored in the dataset. Replace the number\n",
        "# to select a different review.\n",
        "print(\"\")\n",
        "print(\"Machine readable Review\")\n",
        "print(\"  Review Text: \" + str(x_train[3]))\n",
        "print(\"  Review Sentiment: \" + str(y_train[3]))\n",
        "\n",
        "\n",
        "# Print a review and it's class in human readable format. Replace the number\n",
        "# to select a different review.\n",
        "print(\"\")\n",
        "print(\"Human Readable Review\")\n",
        "print(\"  Review Text: \" + decode_review(x_train[3]))\n",
        "print(\"  Review Sentiment: \" + class_names[y_train[3]])"
      ],
      "execution_count": 8,
      "outputs": [
        {
          "output_type": "stream",
          "text": [
            "Number of Training Samples: 8982\n",
            "Number of Test Samples: 2246\n",
            "Number of classes:  46\n",
            "Maximum review length: 2376\n",
            "Minimum review length: 2\n",
            "Mean review length: 145.96419665122906\n",
            "\n",
            "Machine readable Review\n",
            "  Review Text: [1, 4, 686, 867, 558, 4, 37, 38, 309, 2276, 465, 893, 3541, 114, 2902, 69, 312, 35, 15, 7, 335, 1679, 21, 25, 3675, 2, 3498, 58, 69, 68, 493, 5, 25, 465, 377, 2430, 4, 293, 1172, 739, 4379, 8, 7, 1510, 1131, 13, 899, 6, 4, 990, 309, 415, 4519, 6920, 645, 3916, 791, 5, 4379, 75, 8, 24, 10, 1311, 4677, 5, 344, 756, 7, 2, 231, 9691, 2603, 1413, 43, 509, 43, 68, 327, 5, 2, 3498, 297, 638, 73, 430, 22, 4, 580, 7, 48, 41, 30, 2, 136, 4, 344, 298, 4, 580, 40, 344, 5078, 2, 291, 1488, 10, 3148, 5, 231, 6250, 1308, 5, 8250, 7043, 21, 2, 1622, 990, 309, 415, 265, 5992, 8945, 1149, 9118, 2, 4, 344, 9691, 756, 3729, 2, 4667, 2, 3249, 28, 10, 2190, 24, 77, 41, 682, 10, 4851, 2048, 7, 4, 5540, 2926, 1598, 22, 370, 5954, 7541, 5, 54, 5232, 1685, 2916, 10, 1571, 946, 60, 51, 3249, 5249, 4, 73, 2135, 669, 4, 580, 64, 10, 4280, 6, 2, 25, 482, 35, 150, 377, 2430, 7, 10, 2, 836, 2, 4730, 6920, 5, 4379, 2, 2, 3541, 8, 4, 344, 291, 2, 298, 4228, 6, 2223, 24, 2, 41, 343, 430, 210, 6, 3498, 297, 64, 10, 2281, 455, 5, 7003, 125, 222, 17, 12]\n",
            "  Review Sentiment: 4\n",
            "\n",
            "Human Readable Review\n",
            "  Review Text: the of four sit moment of like her high depressing seemed baby derek little everyday me during so for br poor sight not have mate and continued my me were behind to have seemed start liners of watched chemistry george chased in br wall effective was shame is of political high piece porno seductive body girl's follow to chased bad in his i fully parallel to line stand br and minutes oddball proud church out genre out were mind to and continued 1 light much worse you of lack br what about at and scenes of line said of lack just line grayson and someone step i atmospheric to minutes lukas journey to combining instances not and lets political high piece screen firmly knives focus treating and of line oddball stand cia and gundam and concert one i evening his will about disappointed i irrelevant learned br of outs southern man's you awful tenant shin to no challenged willing bitter i seconds towards which when concert ross of much site episodes of lack see i wont is and have lead so years start liners br i and brought and fascinated seductive to chased and and derek in of line someone and said reaches is 70s his and about short worse point is continued 1 see i chick direction to neglected better there's movie that\n",
            "  Review Sentiment: acq\n"
          ],
          "name": "stdout"
        }
      ]
    },
    {
      "cell_type": "markdown",
      "metadata": {
        "id": "7Ow_U3faAlet",
        "colab_type": "text"
      },
      "source": [
        ""
      ]
    },
    {
      "cell_type": "code",
      "metadata": {
        "id": "sY4QLZggAicD",
        "colab_type": "code",
        "colab": {}
      },
      "source": [
        "maxlen =50\n",
        "x_train = tf.keras.preprocessing.sequence.pad_sequences(x_train, maxlen=maxlen)\n",
        "x_test = tf.keras.preprocessing.sequence.pad_sequences(x_test, maxlen=maxlen)"
      ],
      "execution_count": 10,
      "outputs": []
    },
    {
      "cell_type": "markdown",
      "metadata": {
        "id": "7Mc7T2wk33Kj",
        "colab_type": "text"
      },
      "source": [
        "#### RNN"
      ]
    },
    {
      "cell_type": "markdown",
      "metadata": {
        "id": "IEAEhLOsz7cw",
        "colab_type": "text"
      },
      "source": [
        "#### Create model"
      ]
    },
    {
      "cell_type": "code",
      "metadata": {
        "id": "9CEJoajAv0Xp",
        "colab_type": "code",
        "colab": {}
      },
      "source": [
        "# Build the model.\n",
        "\n",
        "model = tf.keras.Sequential()\n",
        "model.add(tf.keras.layers.Embedding(max_features, 16))\n",
        "model.add(tf.keras.layers.Dropout(rate=0.2 ))\n",
        "model.add(tf.keras.layers.SimpleRNN(32, return_sequences=True,dropout=0.2))\n",
        "model.add(tf.keras.layers.SimpleRNN(32, return_sequences=True,dropout=0.2))\n",
        "model.add(tf.keras.layers.SimpleRNN(32, return_sequences=True,dropout=0.2))\n",
        "model.add(tf.keras.layers.SimpleRNN(32,dropout=0.2))\n",
        "model.add(tf.keras.layers.Dense(num_classes, activation='softmax'))\n",
        "\n",
        "model.compile(optimizer='rmsprop', loss='categorical_crossentropy', metrics=['acc'])\n",
        "y_train_cat = tf.keras.utils.to_categorical(y_train)"
      ],
      "execution_count": 11,
      "outputs": []
    },
    {
      "cell_type": "markdown",
      "metadata": {
        "id": "yY4qUwaSz7cz",
        "colab_type": "text"
      },
      "source": [
        "#### Train the model"
      ]
    },
    {
      "cell_type": "code",
      "metadata": {
        "id": "5AS5VXF5z7cz",
        "colab_type": "code",
        "colab": {
          "base_uri": "https://localhost:8080/",
          "height": 368
        },
        "outputId": "28df3532-aa5a-4143-92dd-96bd19c86f10"
      },
      "source": [
        "\n",
        "# Train your model here\n",
        "history = model.fit(x_train, y_train_cat,\n",
        "    epochs=10,\n",
        "    batch_size=64,\n",
        "    validation_split=0.15)"
      ],
      "execution_count": 16,
      "outputs": [
        {
          "output_type": "stream",
          "text": [
            "Epoch 1/10\n",
            "120/120 [==============================] - 6s 49ms/step - loss: 1.4807 - acc: 0.6182 - val_loss: 1.8695 - val_acc: 0.5334\n",
            "Epoch 2/10\n",
            "120/120 [==============================] - 6s 49ms/step - loss: 1.4378 - acc: 0.6323 - val_loss: 1.9666 - val_acc: 0.5030\n",
            "Epoch 3/10\n",
            "120/120 [==============================] - 6s 49ms/step - loss: 1.3791 - acc: 0.6489 - val_loss: 1.9892 - val_acc: 0.5037\n",
            "Epoch 4/10\n",
            "120/120 [==============================] - 6s 50ms/step - loss: 1.3490 - acc: 0.6540 - val_loss: 1.9737 - val_acc: 0.5178\n",
            "Epoch 5/10\n",
            "120/120 [==============================] - 6s 50ms/step - loss: 1.3074 - acc: 0.6609 - val_loss: 1.9766 - val_acc: 0.5230\n",
            "Epoch 6/10\n",
            "120/120 [==============================] - 6s 50ms/step - loss: 1.2529 - acc: 0.6800 - val_loss: 2.0906 - val_acc: 0.5171\n",
            "Epoch 7/10\n",
            "120/120 [==============================] - 6s 50ms/step - loss: 1.2189 - acc: 0.6833 - val_loss: 2.3270 - val_acc: 0.4622\n",
            "Epoch 8/10\n",
            "120/120 [==============================] - 6s 49ms/step - loss: 1.1986 - acc: 0.6893 - val_loss: 2.1511 - val_acc: 0.4792\n",
            "Epoch 9/10\n",
            "120/120 [==============================] - 6s 49ms/step - loss: 1.1563 - acc: 0.6996 - val_loss: 2.2843 - val_acc: 0.4748\n",
            "Epoch 10/10\n",
            "120/120 [==============================] - 6s 49ms/step - loss: 1.1204 - acc: 0.7067 - val_loss: 2.1964 - val_acc: 0.5022\n"
          ],
          "name": "stdout"
        }
      ]
    },
    {
      "cell_type": "code",
      "metadata": {
        "colab_type": "code",
        "id": "mUPAPu6wz7c2",
        "colab": {
          "base_uri": "https://localhost:8080/",
          "height": 593
        },
        "outputId": "63ceb78e-5be4-446e-fb0c-0793f15b3857"
      },
      "source": [
        "plot_history(history)"
      ],
      "execution_count": 19,
      "outputs": [
        {
          "output_type": "display_data",
          "data": {
            "image/png": "[encoded data removed]",
            "text/plain": [
              "<Figure size 432x288 with 1 Axes>"
            ]
          },
          "metadata": {
            "tags": [],
            "needs_background": "light"
          }
        },
        {
          "output_type": "display_data",
          "data": {
            "image/png": "[encoded data removed]",
            "text/plain": [
              "<Figure size 432x288 with 1 Axes>"
            ]
          },
          "metadata": {
            "tags": [],
            "needs_background": "light"
          }
        }
      ]
    },
    {
      "cell_type": "markdown",
      "metadata": {
        "id": "w-SlFvWGz7c5",
        "colab_type": "text"
      },
      "source": [
        "#### Evaluate the model"
      ]
    },
    {
      "cell_type": "code",
      "metadata": {
        "colab_type": "code",
        "id": "NzG6mYwDz7c5",
        "colab": {
          "base_uri": "https://localhost:8080/",
          "height": 1000
        },
        "outputId": "9c5b37d9-ef23-42da-c7bc-42977be10264"
      },
      "source": [
        "y_test_cat = tf.keras.utils.to_categorical(y_test)\n",
        "\n",
        "test_loss, test_acc = model.evaluate(x_test, y_test_cat, verbose=1)\n",
        "print('Test accuracy: %.3f, Test loss: %.3f' % (test_acc,test_loss))\n",
        "\n",
        "rounded_y_test=np.argmax(y_test_cat, axis=1)\n",
        "\n",
        "predicted_classes = model.predict_classes(x_test)\n",
        "print(confusion_matrix(rounded_y_test, predicted_classes))\n",
        "print(classification_report(rounded_y_test, predicted_classes,target_names=class_names))\n"
      ],
      "execution_count": 20,
      "outputs": [
        {
          "output_type": "stream",
          "text": [
            "71/71 [==============================] - 1s 9ms/step - loss: 2.1591 - acc: 0.5040\n",
            "Test accuracy: 0.504, Test loss: 2.159\n",
            "WARNING:tensorflow:From <ipython-input-20-dae20fafaf61>:8: Sequential.predict_classes (from tensorflow.python.keras.engine.sequential) is deprecated and will be removed after 2021-01-01.\n",
            "Instructions for updating:\n",
            "Please use instead:* `np.argmax(model.predict(x), axis=-1)`,   if your model does multi-class classification   (e.g. if it uses a `softmax` last-layer activation).* `(model.predict(x) > 0.5).astype(\"int32\")`,   if your model does binary classification   (e.g. if it uses a `sigmoid` last-layer activation).\n",
            "[[ 0  1  0 ...  0  0  0]\n",
            " [ 0 40  2 ...  0  0  0]\n",
            " [ 0  2  3 ...  0  0  0]\n",
            " ...\n",
            " [ 0  1  1 ...  0  0  0]\n",
            " [ 0  0  4 ...  0  0  0]\n",
            " [ 0  1  0 ...  0  0  0]]\n",
            "                 precision    recall  f1-score   support\n",
            "\n",
            "          cocoa       0.00      0.00      0.00        12\n",
            "          grain       0.20      0.38      0.26       105\n",
            "        veg-oil       0.06      0.15      0.09        20\n",
            "           earn       0.78      0.88      0.83       813\n",
            "            acq       0.64      0.56      0.60       474\n",
            "          wheat       0.00      0.00      0.00         5\n",
            "         copper       0.00      0.00      0.00        14\n",
            "        housing       0.00      0.00      0.00         3\n",
            "   money-supply       0.40      0.11      0.17        38\n",
            "         coffee       0.00      0.00      0.00        25\n",
            "          sugar       0.07      0.37      0.11        30\n",
            "          trade       0.22      0.27      0.24        83\n",
            "       reserves       0.00      0.00      0.00        13\n",
            "           ship       0.00      0.00      0.00        37\n",
            "         cotton       0.00      0.00      0.00         2\n",
            "        carcass       0.00      0.00      0.00         9\n",
            "          crude       0.21      0.28      0.24        99\n",
            "        nat-gas       0.00      0.00      0.00        12\n",
            "            cpi       0.04      0.05      0.05        20\n",
            "       money-fx       0.29      0.27      0.28       133\n",
            "       interest       0.08      0.07      0.08        70\n",
            "            gnp       0.10      0.04      0.05        27\n",
            "      meal-feed       0.00      0.00      0.00         7\n",
            "           alum       0.00      0.00      0.00        12\n",
            "        oilseed       0.00      0.00      0.00        19\n",
            "           gold       0.12      0.06      0.08        31\n",
            "            tin       0.00      0.00      0.00         8\n",
            "strategic-metal       0.00      0.00      0.00         4\n",
            "      livestock       0.00      0.00      0.00        10\n",
            "         retail       0.00      0.00      0.00         4\n",
            "            ipi       0.00      0.00      0.00        12\n",
            "     iron-steel       0.00      0.00      0.00        13\n",
            "         rubber       0.00      0.00      0.00        10\n",
            "           heat       0.00      0.00      0.00         5\n",
            "           jobs       0.00      0.00      0.00         7\n",
            "            lei       0.00      0.00      0.00         6\n",
            "            bop       0.00      0.00      0.00        11\n",
            "           zinc       0.00      0.00      0.00         2\n",
            "         orange       0.00      0.00      0.00         3\n",
            "       pet-chem       0.00      0.00      0.00         5\n",
            "            dlr       0.00      0.00      0.00        10\n",
            "            gas       0.00      0.00      0.00         8\n",
            "         silver       0.00      0.00      0.00         3\n",
            "            wpi       0.00      0.00      0.00         6\n",
            "            hog       0.00      0.00      0.00         5\n",
            "           lead       0.00      0.00      0.00         1\n",
            "\n",
            "       accuracy                           0.50      2246\n",
            "      macro avg       0.07      0.08      0.07      2246\n",
            "   weighted avg       0.48      0.50      0.48      2246\n",
            "\n"
          ],
          "name": "stdout"
        },
        {
          "output_type": "stream",
          "text": [
            "/usr/local/lib/python3.6/dist-packages/sklearn/metrics/_classification.py:1272: UndefinedMetricWarning: Precision and F-score are ill-defined and being set to 0.0 in labels with no predicted samples. Use `zero_division` parameter to control this behavior.\n",
            "  _warn_prf(average, modifier, msg_start, len(result))\n"
          ],
          "name": "stderr"
        }
      ]
    },
    {
      "cell_type": "markdown",
      "metadata": {
        "id": "35rAtgIn38f5",
        "colab_type": "text"
      },
      "source": [
        "##### LSTM"
      ]
    },
    {
      "cell_type": "markdown",
      "metadata": {
        "id": "sFFVZONT4PDr",
        "colab_type": "text"
      },
      "source": [
        "#### Create model"
      ]
    },
    {
      "cell_type": "code",
      "metadata": {
        "id": "l3d5h85z4XJE",
        "colab_type": "code",
        "colab": {}
      },
      "source": [
        "# Build the model.\n",
        "\n",
        "model = tf.keras.Sequential()\n",
        "model.add(tf.keras.layers.Embedding(max_features, 16))\n",
        "model.add(tf.keras.layers.Dropout(rate=0.2 ))\n",
        "model.add(tf.keras.layers.LSTM(32, return_sequences=True,dropout=0.2))\n",
        "model.add(tf.keras.layers.LSTM(32, return_sequences=True,dropout=0.2))\n",
        "model.add(tf.keras.layers.LSTM(32, return_sequences=True,dropout=0.2))\n",
        "model.add(tf.keras.layers.LSTM(32,dropout=0.2))\n",
        "model.add(tf.keras.layers.Dense(num_classes, activation='softmax'))\n",
        "\n",
        "model.compile(optimizer='rmsprop', loss='categorical_crossentropy', metrics=['acc'])\n",
        "y_train = tf.keras.utils.to_categorical(y_train)"
      ],
      "execution_count": 21,
      "outputs": []
    },
    {
      "cell_type": "markdown",
      "metadata": {
        "id": "Y1rvlWly4QBW",
        "colab_type": "text"
      },
      "source": [
        "#### Train the model"
      ]
    },
    {
      "cell_type": "code",
      "metadata": {
        "id": "1BrSRpgc43O6",
        "colab_type": "code",
        "colab": {
          "base_uri": "https://localhost:8080/",
          "height": 368
        },
        "outputId": "8768cde7-7cb7-4578-fdc4-7837f0173867"
      },
      "source": [
        "# Train your model here\n",
        "history = model.fit(x_train, y_train,\n",
        "    epochs=10,\n",
        "    batch_size=64,\n",
        "    validation_split=0.15)"
      ],
      "execution_count": 22,
      "outputs": [
        {
          "output_type": "stream",
          "text": [
            "Epoch 1/10\n",
            "120/120 [==============================] - 13s 109ms/step - loss: 2.4310 - acc: 0.3767 - val_loss: 1.9973 - val_acc: 0.4384\n",
            "Epoch 2/10\n",
            "120/120 [==============================] - 12s 102ms/step - loss: 1.8812 - acc: 0.4959 - val_loss: 2.1201 - val_acc: 0.4102\n",
            "Epoch 3/10\n",
            "120/120 [==============================] - 12s 101ms/step - loss: 1.7495 - acc: 0.5215 - val_loss: 2.0480 - val_acc: 0.4622\n",
            "Epoch 4/10\n",
            "120/120 [==============================] - 12s 102ms/step - loss: 1.6909 - acc: 0.5347 - val_loss: 1.8212 - val_acc: 0.5082\n",
            "Epoch 5/10\n",
            "120/120 [==============================] - 12s 102ms/step - loss: 1.6390 - acc: 0.5413 - val_loss: 1.8355 - val_acc: 0.4889\n",
            "Epoch 6/10\n",
            "120/120 [==============================] - 12s 103ms/step - loss: 1.6084 - acc: 0.5494 - val_loss: 1.7791 - val_acc: 0.5163\n",
            "Epoch 7/10\n",
            "120/120 [==============================] - 12s 102ms/step - loss: 1.5737 - acc: 0.5626 - val_loss: 1.7906 - val_acc: 0.5185\n",
            "Epoch 8/10\n",
            "120/120 [==============================] - 12s 103ms/step - loss: 1.5482 - acc: 0.5655 - val_loss: 1.8112 - val_acc: 0.5067\n",
            "Epoch 9/10\n",
            "120/120 [==============================] - 12s 103ms/step - loss: 1.5225 - acc: 0.5680 - val_loss: 1.8876 - val_acc: 0.5059\n",
            "Epoch 10/10\n",
            "120/120 [==============================] - 12s 103ms/step - loss: 1.5001 - acc: 0.5774 - val_loss: 1.8415 - val_acc: 0.5045\n"
          ],
          "name": "stdout"
        }
      ]
    },
    {
      "cell_type": "code",
      "metadata": {
        "id": "ukOhwE4E6BT4",
        "colab_type": "code",
        "colab": {
          "base_uri": "https://localhost:8080/",
          "height": 593
        },
        "outputId": "3392d4f4-1714-43da-da67-f757baded5d0"
      },
      "source": [
        "plot_history(history)"
      ],
      "execution_count": 23,
      "outputs": [
        {
          "output_type": "display_data",
          "data": {
            "image/png": "[encoded data removed]",
            "text/plain": [
              "<Figure size 432x288 with 1 Axes>"
            ]
          },
          "metadata": {
            "tags": [],
            "needs_background": "light"
          }
        },
        {
          "output_type": "display_data",
          "data": {
            "image/png": "[encoded data removed]",
            "text/plain": [
              "<Figure size 432x288 with 1 Axes>"
            ]
          },
          "metadata": {
            "tags": [],
            "needs_background": "light"
          }
        }
      ]
    },
    {
      "cell_type": "markdown",
      "metadata": {
        "id": "gabWIeOS4VGk",
        "colab_type": "text"
      },
      "source": [
        "#### Evaluate the model"
      ]
    },
    {
      "cell_type": "code",
      "metadata": {
        "id": "xlNqww425tLt",
        "colab_type": "code",
        "colab": {
          "base_uri": "https://localhost:8080/",
          "height": 1000
        },
        "outputId": "70eb740c-6eea-49e9-8adf-9e3f3e90f22a"
      },
      "source": [
        "test_loss, test_acc = model.evaluate(x_test, y_test_cat, verbose=1)\n",
        "print('Test accuracy: %.3f, Test loss: %.3f' % (test_acc,test_loss))\n",
        "\n",
        "rounded_y_test=np.argmax(y_test_cat, axis=1)\n",
        "\n",
        "predicted_classes = model.predict_classes(x_test)\n",
        "print(confusion_matrix(rounded_y_test, predicted_classes))\n",
        "print(classification_report(rounded_y_test, predicted_classes,target_names=class_names))\n",
        "\n"
      ],
      "execution_count": 24,
      "outputs": [
        {
          "output_type": "stream",
          "text": [
            "71/71 [==============================] - 1s 18ms/step - loss: 1.8592 - acc: 0.4907\n",
            "Test accuracy: 0.491, Test loss: 1.859\n",
            "[[0 0 0 ... 0 0 0]\n",
            " [0 4 0 ... 0 0 0]\n",
            " [0 0 0 ... 0 0 0]\n",
            " ...\n",
            " [0 0 0 ... 0 0 0]\n",
            " [0 0 0 ... 0 0 0]\n",
            " [0 0 0 ... 0 0 0]]\n",
            "                 precision    recall  f1-score   support\n",
            "\n",
            "          cocoa       0.00      0.00      0.00        12\n",
            "          grain       0.09      0.04      0.05       105\n",
            "        veg-oil       0.00      0.00      0.00        20\n",
            "           earn       0.95      0.79      0.86       813\n",
            "            acq       0.67      0.68      0.67       474\n",
            "          wheat       0.00      0.00      0.00         5\n",
            "         copper       0.00      0.00      0.00        14\n",
            "        housing       0.00      0.00      0.00         3\n",
            "   money-supply       0.00      0.00      0.00        38\n",
            "         coffee       0.00      0.00      0.00        25\n",
            "          sugar       0.08      0.20      0.11        30\n",
            "          trade       0.10      0.29      0.14        83\n",
            "       reserves       0.00      0.00      0.00        13\n",
            "           ship       0.00      0.00      0.00        37\n",
            "         cotton       0.00      0.00      0.00         2\n",
            "        carcass       0.00      0.00      0.00         9\n",
            "          crude       0.11      0.16      0.13        99\n",
            "        nat-gas       0.00      0.00      0.00        12\n",
            "            cpi       0.14      0.25      0.18        20\n",
            "       money-fx       0.16      0.57      0.25       133\n",
            "       interest       0.07      0.04      0.05        70\n",
            "            gnp       0.00      0.00      0.00        27\n",
            "      meal-feed       0.00      0.00      0.00         7\n",
            "           alum       0.00      0.00      0.00        12\n",
            "        oilseed       0.00      0.00      0.00        19\n",
            "           gold       0.04      0.03      0.04        31\n",
            "            tin       0.00      0.00      0.00         8\n",
            "strategic-metal       0.00      0.00      0.00         4\n",
            "      livestock       0.00      0.00      0.00        10\n",
            "         retail       0.00      0.00      0.00         4\n",
            "            ipi       0.00      0.00      0.00        12\n",
            "     iron-steel       0.00      0.00      0.00        13\n",
            "         rubber       0.00      0.00      0.00        10\n",
            "           heat       0.00      0.00      0.00         5\n",
            "           jobs       0.00      0.00      0.00         7\n",
            "            lei       0.00      0.00      0.00         6\n",
            "            bop       0.00      0.00      0.00        11\n",
            "           zinc       0.00      0.00      0.00         2\n",
            "         orange       0.00      0.00      0.00         3\n",
            "       pet-chem       0.00      0.00      0.00         5\n",
            "            dlr       0.00      0.00      0.00        10\n",
            "            gas       0.00      0.00      0.00         8\n",
            "         silver       0.00      0.00      0.00         3\n",
            "            wpi       0.00      0.00      0.00         6\n",
            "            hog       0.00      0.00      0.00         5\n",
            "           lead       0.00      0.00      0.00         1\n",
            "\n",
            "       accuracy                           0.49      2246\n",
            "      macro avg       0.05      0.07      0.05      2246\n",
            "   weighted avg       0.51      0.49      0.49      2246\n",
            "\n"
          ],
          "name": "stdout"
        },
        {
          "output_type": "stream",
          "text": [
            "/usr/local/lib/python3.6/dist-packages/sklearn/metrics/_classification.py:1272: UndefinedMetricWarning: Precision and F-score are ill-defined and being set to 0.0 in labels with no predicted samples. Use `zero_division` parameter to control this behavior.\n",
            "  _warn_prf(average, modifier, msg_start, len(result))\n"
          ],
          "name": "stderr"
        }
      ]
    },
    {
      "cell_type": "code",
      "metadata": {
        "id": "RN_o95xM7oNq",
        "colab_type": "code",
        "colab": {
          "base_uri": "https://localhost:8080/",
          "height": 54
        },
        "outputId": "b4da0175-355e-4e24-964e-391a09227b66"
      },
      "source": [
        "#warning\n",
        "print(\"not predicted classes: \", set(y_test) - set(predicted_classes))\n",
        "#This means that there is no F-score to calculate for this label, and thus the F-score for this case is considered to be 0.0. "
      ],
      "execution_count": 25,
      "outputs": [
        {
          "output_type": "stream",
          "text": [
            "not predicted classes:  {0, 2, 5, 6, 7, 8, 9, 12, 13, 14, 15, 17, 21, 22, 23, 24, 26, 27, 28, 29, 30, 31, 32, 33, 34, 35, 36, 37, 38, 39, 40, 41, 42, 43, 44, 45}\n"
          ],
          "name": "stdout"
        }
      ]
    },
    {
      "cell_type": "markdown",
      "metadata": {
        "id": "3Qhcqj_Yz7dC",
        "colab_type": "text"
      },
      "source": [
        "**Are the results accordant to what you expected? Can you notice some differences between the RNN and the LSTM results? Why?**"
      ]
    }
  ]
}